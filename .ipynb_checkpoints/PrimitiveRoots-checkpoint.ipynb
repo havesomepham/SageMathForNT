{
 "cells": [
  {
   "cell_type": "code",
   "execution_count": 1,
   "id": "331a5b4c",
   "metadata": {},
   "outputs": [],
   "source": [
    "n = 137"
   ]
  },
  {
   "cell_type": "code",
   "execution_count": 3,
   "id": "9dd46d0f",
   "metadata": {},
   "outputs": [
    {
     "name": "stdout",
     "output_type": "stream",
     "text": [
      "[3, 5, 6, 12, 13, 20, 21, 23, 24, 26, 27, 29, 31, 33, 35, 40, 42, 43, 45, 46, 47, 48, 51, 52, 53, 54, 55, 57, 58, 62, 66, 67, 70, 71, 75, 79, 80, 82, 83, 84, 85, 86, 89, 90, 91, 92, 94, 95, 97, 102, 104, 106, 108, 110, 111, 113, 114, 116, 117, 124, 125, 131, 132, 134]\n",
      "64\n"
     ]
    }
   ],
   "source": [
    "primroots = []\n",
    "for g in range(n):\n",
    "    if gcd(g,n) != 1: # check if g,n are coprime\n",
    "        pass\n",
    "    powers = set() # no dupes allowed\n",
    "    for k in range(n):\n",
    "        powers.add(mod(g^k,n)) # run through all powers of g mod n\n",
    "    if len(powers) == n - 1: # if the set has n-1 powers in it...\n",
    "        primroots.append(g) # g is a primitive root mod n\n",
    "print(primroots)\n",
    "print(len(primroots))"
   ]
  }
 ],
 "metadata": {
  "kernelspec": {
   "display_name": "SageMath 9.8",
   "language": "sage",
   "name": "sagemath-9.8"
  },
  "language_info": {
   "codemirror_mode": {
    "name": "ipython",
    "version": 3
   },
   "file_extension": ".py",
   "mimetype": "text/x-python",
   "name": "python",
   "nbconvert_exporter": "python",
   "pygments_lexer": "ipython3",
   "version": "3.11.1"
  }
 },
 "nbformat": 4,
 "nbformat_minor": 5
}
