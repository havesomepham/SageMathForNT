{
 "cells": [
  {
   "cell_type": "code",
   "execution_count": 264,
   "metadata": {},
   "outputs": [
    {
     "name": "stdout",
     "output_type": "stream",
     "text": [
      "IPython console for SymPy 1.11.1 (Python 3.9.13-64-bit) (ground types: python)\n",
      "\n",
      "These commands were executed:\n",
      ">>> from sympy import *\n",
      ">>> x, y, z, t = symbols('x y z t')\n",
      ">>> k, m, n = symbols('k m n', integer=True)\n",
      ">>> f, g, h = symbols('f g h', cls=Function)\n",
      ">>> init_printing()\n",
      "\n",
      "Documentation can be found at https://docs.sympy.org/1.11.1/\n",
      "\n"
     ]
    }
   ],
   "source": [
    "from sympy import *\n",
    "init_session() "
   ]
  },
  {
   "cell_type": "code",
   "execution_count": 265,
   "metadata": {},
   "outputs": [],
   "source": [
    "a,b,c,x,y,p,q,r,s,n = symbols('a b c x y p q r s n', integer=True)"
   ]
  },
  {
   "cell_type": "code",
   "execution_count": 266,
   "metadata": {},
   "outputs": [
    {
     "data": {
      "image/png": "[encoded data removed]",
      "text/latex": [
       "$\\displaystyle x^{2} \\left(n r^{2} + p^{2} + 2 p q r + q^{2} r^{2}\\right) + x y \\left(2 n r s + 2 p q s + 2 q^{2} r s\\right) + y^{2} \\left(n s^{2} + q^{2} s^{2}\\right)$"
      ],
      "text/plain": [
       " 2 ⎛   2    2              2  2⎞       ⎛                       2    ⎞    2 ⎛  \n",
       "x ⋅⎝n⋅r  + p  + 2⋅p⋅q⋅r + q ⋅r ⎠ + x⋅y⋅⎝2⋅n⋅r⋅s + 2⋅p⋅q⋅s + 2⋅q ⋅r⋅s⎠ + y ⋅⎝n⋅\n",
       "\n",
       " 2    2  2⎞\n",
       "s  + q ⋅s ⎠"
      ]
     },
     "execution_count": 266,
     "metadata": {},
     "output_type": "execute_result"
    }
   ],
   "source": [
    "f = x**2+n*y**2\n",
    "f.subs([[x,p*x+q*y],[y,r*x+s*y]]).expand().factor([x,y])"
   ]
  },
  {
   "cell_type": "code",
   "execution_count": 267,
   "metadata": {},
   "outputs": [
    {
     "data": {
      "image/png": "[encoded data removed]",
      "text/latex": [
       "$\\displaystyle \\left[\\begin{matrix}p & q\\\\r & s\\end{matrix}\\right]$"
      ],
      "text/plain": [
       "⎡p  q⎤\n",
       "⎢    ⎥\n",
       "⎣r  s⎦"
      ]
     },
     "execution_count": 267,
     "metadata": {},
     "output_type": "execute_result"
    }
   ],
   "source": [
    "Matrix([[p,q],[r,s]])"
   ]
  },
  {
   "cell_type": "code",
   "execution_count": 268,
   "metadata": {},
   "outputs": [
    {
     "name": "stdout",
     "output_type": "stream",
     "text": [
      "   2    2              2  2    \n",
      "n⋅r  + p  + 2⋅p⋅q⋅r + q ⋅r  = a\n",
      "                    2      \n",
      "-2⋅n⋅r - 2⋅p⋅q - 2⋅q ⋅r = b\n",
      "     2    \n",
      "n + q  = c\n",
      "-p - q⋅r = -1\n"
     ]
    },
    {
     "data": {
      "image/png": "[encoded data removed]",
      "text/latex": [
       "$\\displaystyle \\left[ \\right]$"
      ],
      "text/plain": [
       "[]"
      ]
     },
     "execution_count": 268,
     "metadata": {},
     "output_type": "execute_result"
    }
   ],
   "source": [
    "eq1 = Eq(n*r**2 + p**2 + 2*p*q*r + q**2*r**2, a)\n",
    "eq2 = Eq(2*n*r*s + 2*p*q*s + 2*q**2*r*s, b) \n",
    "eq3 = Eq(n*s**2 + q**2*s**2, c)\n",
    "eq4 = Eq(p*s-q*r, -1)\n",
    "\n",
    "for eq in [eq1,eq2,eq3,eq4]:\n",
    "    eq = eq.subs(s,-1)\n",
    "    pprint(eq)\n",
    "\n",
    "solve([eq1,eq2,eq3,eq4],[p,q,r], dir=True)"
   ]
  },
  {
   "cell_type": "code",
   "execution_count": 282,
   "metadata": {},
   "outputs": [],
   "source": [
    "m = symbols('m', integer=True)\n",
    "M_1 = Matrix([[0,-1],[1,0]])\n",
    "M_2 = Matrix([[1,m],[0,1]])\n",
    "M_3 = Matrix([[1,0],[0,-1]])\n",
    "X = Matrix([[x],[y]])"
   ]
  },
  {
   "cell_type": "code",
   "execution_count": 287,
   "metadata": {},
   "outputs": [],
   "source": [
    "class Mx:\n",
    "    def __init__(self, N):\n",
    "        self.N = N\n",
    "    def transform(self, M):\n",
    "        self.N = M.T * self.N * M\n",
    "        return self\n",
    "    def M1(self):\n",
    "        self.transform(M_1)\n",
    "        return self\n",
    "    def M2(self, n):\n",
    "        self.transform(M_2.subs(m,n))\n",
    "        return self\n",
    "    def convert(self):\n",
    "        return (X.T * self.N * X)[0].factor()"
   ]
  },
  {
   "cell_type": "code",
   "execution_count": 341,
   "metadata": {},
   "outputs": [
    {
     "name": "stdout",
     "output_type": "stream",
     "text": [
      "-1\n"
     ]
    },
    {
     "data": {
      "image/png": "[encoded data removed]",
      "text/latex": [
       "$\\displaystyle x^{2} + 14 y^{2}$"
      ],
      "text/plain": [
       " 2       2\n",
       "x  + 14⋅y "
      ]
     },
     "execution_count": 341,
     "metadata": {},
     "output_type": "execute_result"
    }
   ],
   "source": [
    "# n = 14\n",
    "F = Matrix([[-29,7],[141,-34]])\n",
    "print(det(F))\n",
    "N = Mx(Matrix([[1,0],[0,14]]))\n",
    "N.transform(F).M1().M2(round(-134638/(2*16233))).M1().M2(round(4744/(2*351))).M1().M2(round(140/(2*14))).M1().convert()"
   ]
  },
  {
   "cell_type": "code",
   "execution_count": null,
   "metadata": {},
   "outputs": [],
   "source": []
  }
 ],
 "metadata": {
  "kernelspec": {
   "display_name": "Python 3",
   "language": "python",
   "name": "python3"
  },
  "language_info": {
   "codemirror_mode": {
    "name": "ipython",
    "version": 3
   },
   "file_extension": ".py",
   "mimetype": "text/x-python",
   "name": "python",
   "nbconvert_exporter": "python",
   "pygments_lexer": "ipython3",
   "version": "3.9.13"
  },
  "orig_nbformat": 4
 },
 "nbformat": 4,
 "nbformat_minor": 2
}
