{
 "cells": [
  {
   "cell_type": "code",
   "execution_count": 5,
   "id": "331a5b4c",
   "metadata": {
    "vscode": {
     "languageId": "python"
    }
   },
   "outputs": [],
   "source": [
    "n = 7"
   ]
  },
  {
   "cell_type": "code",
   "execution_count": 6,
   "id": "9dd46d0f",
   "metadata": {
    "vscode": {
     "languageId": "python"
    }
   },
   "outputs": [
    {
     "name": "stdout",
     "output_type": "stream",
     "text": [
      "[3, 5]\n",
      "2\n"
     ]
    }
   ],
   "source": [
    "primroots = []\n",
    "for g in range(n):\n",
    "    if gcd(g,n) != 1: # check if g,n are coprime\n",
    "        pass\n",
    "    powers = set() # no dupes allowed\n",
    "    for k in range(n):\n",
    "        powers.add(mod(g^k,n)) # run through all powers of g mod n\n",
    "    if len(powers) == n - 1: # if the set has n-1 powers in it...\n",
    "        primroots.append(g) # g is a primitive root mod n\n",
    "print(primroots)\n",
    "print(len(primroots))"
   ]
  }
 ],
 "metadata": {
  "kernelspec": {
   "display_name": "SageMath 9.8",
   "language": "sage",
   "name": "SageMath-9.8"
  },
  "language_info": {
   "codemirror_mode": {
    "name": "ipython",
    "version": 3
   },
   "file_extension": ".py",
   "mimetype": "text/x-python",
   "name": "sage",
   "nbconvert_exporter": "python",
   "pygments_lexer": "ipython3",
   "version": "3.11.1"
  }
 },
 "nbformat": 4,
 "nbformat_minor": 5
}
