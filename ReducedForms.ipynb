{
 "cells": [
  {
   "cell_type": "code",
   "execution_count": 238,
   "id": "20725084",
   "metadata": {},
   "outputs": [],
   "source": [
    "def eval(x, y, coeffs):\n",
    "    return coeffs[0]*x^2 + coeffs[1]*x*y + coeffs[2]*y^2"
   ]
  },
  {
   "cell_type": "code",
   "execution_count": 239,
   "id": "fff1546c",
   "metadata": {},
   "outputs": [],
   "source": [
    "def discrim(coeffs):\n",
    "    return coeffs[1]^2 - 4 * coeffs[0]*coeffs[2]"
   ]
  },
  {
   "cell_type": "code",
   "execution_count": 240,
   "id": "245cd062",
   "metadata": {},
   "outputs": [],
   "source": [
    "def list_reduced_forms(D):\n",
    "    for a in range(1, ceil(sqrt(-D/3))):\n",
    "        for b in range(0, a + 1):\n",
    "            c = (b^2 - D)/(4*a)\n",
    "            if gcd((a,b,c)) != 1: # check for primitivity and if c is an integer\n",
    "                continue\n",
    "            print((a,b,c))\n",
    "            if b != -b and a != c and a != abs(b):\n",
    "                print((a,-b,c))"
   ]
  },
  {
   "cell_type": "code",
   "execution_count": 241,
   "id": "13c30b1e",
   "metadata": {},
   "outputs": [
    {
     "name": "stdout",
     "output_type": "stream",
     "text": [
      "(1, 0, 1)\n"
     ]
    }
   ],
   "source": [
    "list_reduced_forms(-4)"
   ]
  },
  {
   "cell_type": "code",
   "execution_count": 242,
   "id": "7a6ee067",
   "metadata": {},
   "outputs": [
    {
     "name": "stdout",
     "output_type": "stream",
     "text": [
      "(1, 0, 64)\n",
      "(4, 4, 17)\n",
      "(5, 2, 13)\n",
      "(5, -2, 13)\n"
     ]
    }
   ],
   "source": [
    "list_reduced_forms(-256)"
   ]
  },
  {
   "cell_type": "code",
   "execution_count": null,
   "id": "80c6af40",
   "metadata": {},
   "outputs": [],
   "source": []
  }
 ],
 "metadata": {
  "kernelspec": {
   "display_name": "SageMath 9.8",
   "language": "sage",
   "name": "SageMath-9.8"
  },
  "language_info": {
   "codemirror_mode": {
    "name": "ipython",
    "version": 3
   },
   "file_extension": ".py",
   "mimetype": "text/x-python",
   "name": "python",
   "nbconvert_exporter": "python",
   "pygments_lexer": "ipython3",
   "version": "3.11.1"
  },
  "vscode": {
   "interpreter": {
    "hash": "a0a5145e6c304e2a9afaf5b930a2955b950bd4b81fe94f7c42930f43f42762eb"
   }
  }
 },
 "nbformat": 4,
 "nbformat_minor": 5
}
