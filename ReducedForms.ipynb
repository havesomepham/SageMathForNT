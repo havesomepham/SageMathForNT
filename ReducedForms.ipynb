{
 "cells": [
  {
   "cell_type": "code",
   "execution_count": 78,
   "id": "20725084",
   "metadata": {},
   "outputs": [],
   "source": [
    "def eval(x, y, coeffs):\n",
    "    return coeffs[0]*x^2 + coeffs[1]*x*y + coeffs[2]*y^2"
   ]
  },
  {
   "cell_type": "code",
   "execution_count": 79,
   "id": "fff1546c",
   "metadata": {},
   "outputs": [],
   "source": [
    "def discrim(coeffs):\n",
    "    return coeffs[1]^2 - 4 * coeffs[0]*coeffs[2]"
   ]
  },
  {
   "cell_type": "code",
   "execution_count": 80,
   "id": "245cd062",
   "metadata": {},
   "outputs": [],
   "source": [
    "def list_reduced_forms(D):\n",
    "    for a in range(1, ceil(sqrt(-D/3))):\n",
    "        for b in range(0, a + 1):\n",
    "            c = (b^2 - D)/(4*a)\n",
    "            if a > c or gcd((a,b,c)) != 1: # check for primitivity and if c is an integer\n",
    "                continue\n",
    "            print((a,b,c))\n",
    "            if b != -b and a != c and a != abs(b):\n",
    "                print((a,-b,c))"
   ]
  },
  {
   "cell_type": "code",
   "execution_count": 81,
   "id": "13c30b1e",
   "metadata": {},
   "outputs": [
    {
     "name": "stdout",
     "output_type": "stream",
     "text": [
      "(1, 0, 1)\n"
     ]
    }
   ],
   "source": [
    "list_reduced_forms(-4)"
   ]
  },
  {
   "cell_type": "code",
   "execution_count": 82,
   "id": "7a6ee067",
   "metadata": {},
   "outputs": [
    {
     "name": "stdout",
     "output_type": "stream",
     "text": [
      "(1, 0, 64)\n",
      "(4, 4, 17)\n",
      "(5, 2, 13)\n",
      "(5, -2, 13)\n"
     ]
    }
   ],
   "source": [
    "list_reduced_forms(-256)"
   ]
  },
  {
   "cell_type": "code",
   "execution_count": 83,
   "id": "80c6af40",
   "metadata": {},
   "outputs": [
    {
     "name": "stdout",
     "output_type": "stream",
     "text": [
      "(1, 1, 8192)\n",
      "(2, 1, 4096)\n",
      "(2, -1, 4096)\n",
      "(4, 1, 2048)\n",
      "(4, -1, 2048)\n",
      "(7, 7, 1172)\n",
      "(8, 1, 1024)\n",
      "(8, -1, 1024)\n",
      "(14, 7, 586)\n",
      "(14, -7, 586)\n",
      "(16, 1, 512)\n",
      "(16, -1, 512)\n",
      "(17, 3, 482)\n",
      "(17, -3, 482)\n",
      "(23, 13, 358)\n",
      "(23, -13, 358)\n",
      "(28, 7, 293)\n",
      "(28, -7, 293)\n",
      "(31, 31, 272)\n",
      "(32, 1, 256)\n",
      "(32, -1, 256)\n",
      "(34, 3, 241)\n",
      "(34, -3, 241)\n",
      "(34, 31, 248)\n",
      "(34, -31, 248)\n",
      "(41, 19, 202)\n",
      "(41, -19, 202)\n",
      "(46, 13, 179)\n",
      "(46, -13, 179)\n",
      "(46, 33, 184)\n",
      "(46, -33, 184)\n",
      "(53, 27, 158)\n",
      "(53, -27, 158)\n",
      "(56, 49, 157)\n",
      "(56, -49, 157)\n",
      "(62, 31, 136)\n",
      "(62, -31, 136)\n",
      "(64, 1, 128)\n",
      "(64, -1, 128)\n",
      "(68, 31, 124)\n",
      "(68, -31, 124)\n",
      "(68, 65, 136)\n",
      "(68, -65, 136)\n",
      "(79, 27, 106)\n",
      "(79, -27, 106)\n",
      "(82, 19, 101)\n",
      "(82, -19, 101)\n",
      "(82, 63, 112)\n",
      "(82, -63, 112)\n",
      "(92, 33, 92)\n",
      "(92, 79, 106)\n",
      "(92, -79, 106)\n"
     ]
    }
   ],
   "source": [
    "list_reduced_forms(-32767)"
   ]
  },
  {
   "cell_type": "code",
   "execution_count": 89,
   "id": "45f79361",
   "metadata": {},
   "outputs": [
    {
     "name": "stdout",
     "output_type": "stream",
     "text": [
      "(1, 0, 64)\n",
      "(4, 4, 17)\n",
      "(5, 2, 13)\n",
      "(5, -2, 13)\n"
     ]
    }
   ],
   "source": [
    "list_reduced_forms(-256)"
   ]
  },
  {
   "cell_type": "code",
   "execution_count": null,
   "id": "5c8eaeab",
   "metadata": {},
   "outputs": [],
   "source": []
  }
 ],
 "metadata": {
  "kernelspec": {
   "display_name": "SageMath 9.8",
   "language": "sage",
   "name": "SageMath-9.8"
  },
  "language_info": {
   "codemirror_mode": {
    "name": "ipython",
    "version": 3
   },
   "file_extension": ".py",
   "mimetype": "text/x-python",
   "name": "python",
   "nbconvert_exporter": "python",
   "pygments_lexer": "ipython3",
   "version": "3.11.1"
  },
  "vscode": {
   "interpreter": {
    "hash": "a0a5145e6c304e2a9afaf5b930a2955b950bd4b81fe94f7c42930f43f42762eb"
   }
  }
 },
 "nbformat": 4,
 "nbformat_minor": 5
}
